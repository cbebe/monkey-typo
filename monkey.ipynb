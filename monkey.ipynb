{
 "cells": [
  {
   "cell_type": "code",
   "execution_count": null,
   "metadata": {},
   "outputs": [],
   "source": [
    "import matplotlib.pyplot as plt\n",
    "import polars as pl\n",
    "\n",
    "from monkey import get_df, find_latest_csv, to_int, to_struct\n",
    "\n",
    "\n",
    "# pathname = 'C:/Users/maple/Downloads/results*.csv'\n",
    "pathname = '/home/chrlz/Downloads/results*.csv'\n",
    "\n",
    "csv = find_latest_csv(pathname)\n",
    "print(csv)\n",
    "\n",
    "\n",
    "pl.Config.set_tbl_hide_column_data_types(True)\n",
    "\n",
    "\n",
    "df = get_df(csv).with_columns(\n",
    "    pl.col('charStats').str.split(',').list.eval(\n",
    "        pl.element().cast(pl.UInt16)).list.to_struct(),\n",
    "    to_struct('_id').name.keep(),\n",
    "    # pl.col('_id').alias('original_id'),\n",
    ")\n",
    "\n",
    "def print_stats(df: pl.DataFrame):\n",
    "    mean = df['wpm'].mean()\n",
    "    restarts = df['restartCount'].sum()/len(df)\n",
    "    print(f'Mean: {mean}')\n",
    "    print(f'Restarts: {restarts}')\n",
    "    print('Worst:')\n",
    "    display(df.sort('wpm').head(15).sort(\n",
    "        'index', descending=True).select('wpm', 'index').transpose())\n",
    "    print('Earliest:')\n",
    "    display(df.head(15).select('wpm', 'index').transpose())\n",
    "    print('Best:')\n",
    "    display(df.sort('wpm', descending=True).head(20))\n",
    "\n",
    "# plt.hist(df.select('wpm'), bins=40)\n",
    "# print_stats(df)\n",
    "# for d in df:\n",
    "#     print(d.name, len(d.unique()))\n",
    "\n",
    "\n",
    "pl.Config.set_tbl_hide_column_data_types(False)\n",
    "print(len(open(csv, 'rb').read()))\n",
    "print(df.estimated_size())\n",
    "pl.Config.set_fmt_str_lengths(10000)\n",
    "df.with_columns(to_int('_id').alias('reconstructed')).filter(pl.col('isPb'))\n",
    "\n",
    "print_stats(df)"
   ]
  },
  {
   "cell_type": "code",
   "execution_count": null,
   "metadata": {},
   "outputs": [],
   "source": [
    "import polars as pl\n",
    "from monkey import format_as_monkey, get_all\n",
    "\n",
    "\n",
    "pathname = '/home/chrlz/Downloads/results*.csv'\n",
    "get_all(pathname).pipe(format_as_monkey).write_csv('/home/chrlz/Downloads/results(34).csv', separator='|')\n",
    "\n",
    "# pl.read_csv( '/home/chrlz/Downloads/results(1).csv', separator='|')"
   ]
  },
  {
   "cell_type": "code",
   "execution_count": null,
   "metadata": {},
   "outputs": [],
   "source": [
    "import polars as pl\n",
    "from monkey import DTYPES, add_index, format_df\n",
    "\n",
    "df = pl.read_parquet('./results.parquet').with_columns([\n",
    "    pl.col(x).cast(t)\n",
    "    for x,t in DTYPES.items()\n",
    "]).pipe(format_df).sort('index', descending=True).pipe(add_index)\n",
    "\n",
    "# pl.read_csv('./results.tsv', separator='\\t')"
   ]
  },
  {
   "cell_type": "code",
   "execution_count": null,
   "metadata": {},
   "outputs": [],
   "source": [
    "import monkey as mk\n",
    "# df.tail(len(df)-1000).sort('wpm', descending=True)\n",
    "# df.head(1000).sort('wpm').head(20).sort('index')\n",
    "\n",
    "\n",
    "def split_char_stats(df: pl.DataFrame):\n",
    "    col = pl.col('charStats')\n",
    "    return (\n",
    "        df.with_columns( col.str.split(','))\n",
    "        .with_columns(col.list.eval(pl.element().cast(pl.UInt16)))\n",
    "        .with_columns([\n",
    "            col.list.get(i).alias(name)\n",
    "            for i, name in enumerate(['correct', 'incorrect', 'extra', 'missed'])\n",
    "        ])\n",
    "        .drop('charStats')\n",
    "    )\n",
    "\n",
    "neg_quote_len = (\n",
    "pl.when(pl.col('quoteLength').is_null())\n",
    "    .then(pl.lit(-1))\n",
    "    .otherwise(pl.col('quoteLength'))\n",
    "    .name.keep()\n",
    ")\n",
    "\n",
    "false_is_pb = (\n",
    "\n",
    "    pl.when(pl.col('isPb') == 'true')\n",
    "    .then(pl.lit(True))\n",
    "    .otherwise(pl.lit(False))\n",
    "    .name.keep()\n",
    ")\n",
    "\n",
    "\n",
    "df.pipe(mk.format_as_monkey).with_columns(\n",
    "    false_is_pb,\n",
    "    neg_quote_len\n",
    ").pipe(split_char_stats).write_parquet('./results-2.parquet', compression='zstd')"
   ]
  },
  {
   "cell_type": "code",
   "execution_count": null,
   "metadata": {},
   "outputs": [],
   "source": [
    "import polars as pl\n",
    "df2= pl.read_parquet('./results.parquet')"
   ]
  },
  {
   "cell_type": "code",
   "execution_count": null,
   "metadata": {},
   "outputs": [],
   "source": [
    "from monkey import format_df\n",
    "# df2\n",
    "df2.tail(1000-len(df2)).sort('timestamp', descending=True).pipe(format_df).sort('wpm').select('wpm', 'index')[0].to_dicts()[0]"
   ]
  },
  {
   "cell_type": "code",
   "execution_count": null,
   "metadata": {},
   "outputs": [],
   "source": [
    "a=[\"ho\",\"lo\"]\n",
    "b=[\"pe\",\"ve\"]\n",
    "print(\" \".join(\"\".join(x) for x in zip(a,b)))"
   ]
  }
 ],
 "metadata": {
  "kernelspec": {
   "display_name": ".venv",
   "language": "python",
   "name": "python3"
  },
  "language_info": {
   "codemirror_mode": {
    "name": "ipython",
    "version": 3
   },
   "file_extension": ".py",
   "mimetype": "text/x-python",
   "name": "python",
   "nbconvert_exporter": "python",
   "pygments_lexer": "ipython3",
   "version": "3.10.12"
  }
 },
 "nbformat": 4,
 "nbformat_minor": 2
}
