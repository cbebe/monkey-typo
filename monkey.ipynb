{
 "cells": [
  {
   "cell_type": "code",
   "execution_count": null,
   "metadata": {},
   "outputs": [],
   "source": [
    "import matplotlib.pyplot as plt\n",
    "import polars as pl\n",
    "\n",
    "from monkey import get_df, find_latest_csv, to_int, to_struct\n",
    "\n",
    "\n",
    "# pathname = 'C:/Users/maple/Downloads/results*.csv'\n",
    "pathname = '/home/chrlz/Downloads/results*.csv'\n",
    "\n",
    "csv = find_latest_csv(pathname)\n",
    "print(csv)\n",
    "\n",
    "\n",
    "pl.Config.set_tbl_hide_column_data_types(True)\n",
    "\n",
    "\n",
    "df = get_df(csv).with_columns(\n",
    "    pl.col('charStats').str.split(',').list.eval(\n",
    "        pl.element().cast(pl.UInt16)).list.to_struct(),\n",
    "    to_struct('_id').name.keep(),\n",
    "    # pl.col('_id').alias('original_id'),\n",
    ")\n",
    "\n",
    "def print_stats(df: pl.DataFrame):\n",
    "    mean = df['wpm'].mean()\n",
    "    restarts = df['restartCount'].sum()/len(df)\n",
    "    print(f'Mean: {mean}')\n",
    "    print(f'Restarts: {restarts}')\n",
    "    print('Worst:')\n",
    "    display(df.sort('wpm').head(15).sort(\n",
    "        'index', descending=True).select('wpm', 'index').transpose())\n",
    "    print('Earliest:')\n",
    "    display(df.head(15).select('wpm', 'index').transpose())\n",
    "    print('Best:')\n",
    "    display(df.sort('wpm', descending=True).head(20))\n",
    "\n",
    "# plt.hist(df.select('wpm'), bins=40)\n",
    "# print_stats(df)\n",
    "# for d in df:\n",
    "#     print(d.name, len(d.unique()))\n",
    "\n",
    "\n",
    "pl.Config.set_tbl_hide_column_data_types(False)\n",
    "print(len(open(csv, 'rb').read()))\n",
    "print(df.estimated_size())\n",
    "pl.Config.set_fmt_str_lengths(10000)\n",
    "df.with_columns(to_int('_id').alias('reconstructed')).filter(pl.col('isPb'))\n",
    "\n",
    "print_stats(df)"
   ]
  }
 ],
 "metadata": {
  "kernelspec": {
   "display_name": ".venv",
   "language": "python",
   "name": "python3"
  },
  "language_info": {
   "codemirror_mode": {
    "name": "ipython",
    "version": 3
   },
   "file_extension": ".py",
   "mimetype": "text/x-python",
   "name": "python",
   "nbconvert_exporter": "python",
   "pygments_lexer": "ipython3",
   "version": "3.10.12"
  }
 },
 "nbformat": 4,
 "nbformat_minor": 2
}
